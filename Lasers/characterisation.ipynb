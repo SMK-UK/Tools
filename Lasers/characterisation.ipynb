{
 "cells": [
  {
   "cell_type": "markdown",
   "metadata": {},
   "source": [
    "\n",
    "### Laser Characterisation\n",
    "\n",
    "        Sean Keenan, PhD Physics  \n",
    "        Quantum Memories Group, Heriot-Watt University, Edinburgh  \n",
    "        2025  "
   ]
  },
  {
   "cell_type": "code",
   "execution_count": null,
   "metadata": {},
   "outputs": [],
   "source": [
    "import sys\n",
    "# Add the parent directory to the system path\n",
    "sys.path.insert(1, r\"C:\\Users\\keena\\Documents\\University\\python_scripts\")\n",
    "\n",
    "from Function_files.addresses import Init_Directories\n",
    "from Function_files.data_functions import open_csv\n",
    "from Function_files.fitting_functions import fit_rise_time\n",
    "from Function_files.plotting_class import Plotter\n",
    "\n",
    "import os\n",
    "from natsort import natsorted\n",
    "\n",
    "plt = Plotter()\n",
    "dirs = Init_Directories()\n",
    "\n",
    "plt.dir = dirs.join(dirs.code, r\"Thesis_SMK\\Figures\\Chapter-3\")\n",
    "plt.folder = r\"Laser\"\n",
    "plt.format = 'svg'\n",
    "\n",
    "folder = r\"Tools\\Lasers\\Characterisation\"\n",
    "path = dirs.join(dirs.code, folder)\n",
    "fnames = [x for x in natsorted(os.listdir(path))]\n",
    "pow_sets = [open_csv(dirs.join(path, x), separators=',', header=0) for x in fnames]"
   ]
  },
  {
   "cell_type": "code",
   "execution_count": null,
   "metadata": {},
   "outputs": [],
   "source": [
    "fit, fit_err = fit_rise_time(pow_sets[1][:,0], pow_sets[1][:,1])\n",
    "plt.fname = '1550_amp'\n",
    "fig, ax = plt.plot_laser_char(pow_sets[1], fit)\n",
    "ax.set_yticks([0, 7.5, 15, 22.5, 30])#([20, 22.5, 25, 27.5, 30])  #\n",
    "plt.save_fig(fig)"
   ]
  },
  {
   "cell_type": "code",
   "execution_count": null,
   "metadata": {},
   "outputs": [],
   "source": [
    "path = dirs.join(dirs.code, folder, 'Error Signal')\n",
    "fnames = [x for x in natsorted(os.listdir(path))]\n",
    "err_sets = [open_csv(dirs.join(path, x), separators=';', header=0) for x in fnames]\n",
    "plt.fname = 'err_sig'\n",
    "fig, ax = plt.plot_err_sig(err_sets[0])\n",
    "#plt.save_fig(fig)"
   ]
  }
 ],
 "metadata": {
  "kernelspec": {
   "display_name": ".tools",
   "language": "python",
   "name": "python3"
  },
  "language_info": {
   "codemirror_mode": {
    "name": "ipython",
    "version": 3
   },
   "file_extension": ".py",
   "mimetype": "text/x-python",
   "name": "python",
   "nbconvert_exporter": "python",
   "pygments_lexer": "ipython3",
   "version": "3.11.1"
  }
 },
 "nbformat": 4,
 "nbformat_minor": 2
}
