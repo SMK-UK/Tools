{
 "cells": [
  {
   "cell_type": "markdown",
   "metadata": {},
   "source": [
    "\n",
    "### Laser Characterisation\n",
    "\n",
    "        Sean Keenan, PhD Physics  \n",
    "        Quantum Memories Group, Heriot-Watt University, Edinburgh  \n",
    "        2025  "
   ]
  },
  {
   "cell_type": "code",
   "execution_count": 2,
   "metadata": {},
   "outputs": [],
   "source": [
    "import sys\n",
    "# Add the parent directory to the system path\n",
    "sys.path.insert(1, r\"C:\\Users\\keena\\Documents\\University\\python_scripts\")\n",
    "\n",
    "from Function_files.addresses import Init_Directories\n",
    "from Function_files.data_functions import open_csv\n",
    "from Function_files.fitting_functions import fit_rise_time\n",
    "from Function_files.plotting_class import Plotter\n",
    "\n",
    "import os\n",
    "from natsort import natsorted\n",
    "\n",
    "plt = Plotter()\n",
    "dirs = Init_Directories()\n",
    "\n",
    "plt.dir = dirs.join(dirs.code, r\"Thesis_SMK\\Figures\\Chapter-3\\Plots\")\n",
    "plt.folder = r\"Laser\"\n",
    "plt.format = 'svg'\n",
    "\n",
    "folder = r\"Tools\\Lasers\\Characterisation\"\n",
    "path = dirs.join(dirs.code, folder)\n",
    "fnames = [x for x in natsorted(os.listdir(path))]\n",
    "pow_sets = [open_csv(dirs.join(path, x), separators=',', header=0) for x in fnames if '.csv' in x]"
   ]
  },
  {
   "cell_type": "code",
   "execution_count": 3,
   "metadata": {},
   "outputs": [
    {
     "ename": "NameError",
     "evalue": "name 'rise_time' is not defined",
     "output_type": "error",
     "traceback": [
      "\u001b[1;31m---------------------------------------------------------------------------\u001b[0m",
      "\u001b[1;31mNameError\u001b[0m                                 Traceback (most recent call last)",
      "Cell \u001b[1;32mIn[3], line 1\u001b[0m\n\u001b[1;32m----> 1\u001b[0m fit, fit_err \u001b[38;5;241m=\u001b[39m \u001b[43mfit_rise_time\u001b[49m\u001b[43m(\u001b[49m\u001b[43mpow_sets\u001b[49m\u001b[43m[\u001b[49m\u001b[38;5;241;43m1\u001b[39;49m\u001b[43m]\u001b[49m\u001b[43m[\u001b[49m\u001b[43m:\u001b[49m\u001b[43m,\u001b[49m\u001b[38;5;241;43m0\u001b[39;49m\u001b[43m]\u001b[49m\u001b[43m,\u001b[49m\u001b[43m \u001b[49m\u001b[43mpow_sets\u001b[49m\u001b[43m[\u001b[49m\u001b[38;5;241;43m1\u001b[39;49m\u001b[43m]\u001b[49m\u001b[43m[\u001b[49m\u001b[43m:\u001b[49m\u001b[43m,\u001b[49m\u001b[38;5;241;43m1\u001b[39;49m\u001b[43m]\u001b[49m\u001b[43m)\u001b[49m\n\u001b[0;32m      2\u001b[0m plt\u001b[38;5;241m.\u001b[39mfname \u001b[38;5;241m=\u001b[39m \u001b[38;5;124m'\u001b[39m\u001b[38;5;124m1550_amp\u001b[39m\u001b[38;5;124m'\u001b[39m\n\u001b[0;32m      3\u001b[0m fig, ax \u001b[38;5;241m=\u001b[39m plt\u001b[38;5;241m.\u001b[39mplot_laser_char(pow_sets[\u001b[38;5;241m1\u001b[39m], fit)\n",
      "File \u001b[1;32m~\\Documents\\University\\python_scripts\\Function_files\\fitting_functions.py:381\u001b[0m, in \u001b[0;36mfit_rise_time\u001b[1;34m(x, y, params, meth, lims)\u001b[0m\n\u001b[0;32m    351\u001b[0m \u001b[38;5;28;01mdef\u001b[39;00m\u001b[38;5;250m \u001b[39m\u001b[38;5;21mfit_rise_time\u001b[39m(x, y, params\u001b[38;5;241m=\u001b[39m\u001b[38;5;28;01mNone\u001b[39;00m, meth\u001b[38;5;241m=\u001b[39m\u001b[38;5;28;01mNone\u001b[39;00m, lims\u001b[38;5;241m=\u001b[39m(\u001b[38;5;241m-\u001b[39mnp\u001b[38;5;241m.\u001b[39minf, np\u001b[38;5;241m.\u001b[39minf)):\n\u001b[0;32m    352\u001b[0m \u001b[38;5;250m    \u001b[39m\u001b[38;5;124;03m\"\"\"\u001b[39;00m\n\u001b[0;32m    353\u001b[0m \u001b[38;5;124;03m    Fits a straight line function to the data to \u001b[39;00m\n\u001b[0;32m    354\u001b[0m \u001b[38;5;124;03m    \u001b[39;00m\n\u001b[1;32m   (...)\u001b[0m\n\u001b[0;32m    379\u001b[0m \u001b[38;5;124;03m        \u001b[39;00m\n\u001b[0;32m    380\u001b[0m \u001b[38;5;124;03m    \"\"\"\u001b[39;00m\n\u001b[1;32m--> 381\u001b[0m     fit, success \u001b[38;5;241m=\u001b[39m curve_fit(\u001b[43mrise_time\u001b[49m, x, y, p0\u001b[38;5;241m=\u001b[39mparams, method\u001b[38;5;241m=\u001b[39mmeth, bounds\u001b[38;5;241m=\u001b[39mlims)\n\u001b[0;32m    382\u001b[0m     fit_err \u001b[38;5;241m=\u001b[39m np\u001b[38;5;241m.\u001b[39msqrt(np\u001b[38;5;241m.\u001b[39mdiag(success))\n\u001b[0;32m    384\u001b[0m     \u001b[38;5;28;01mreturn\u001b[39;00m fit, fit_err\n",
      "\u001b[1;31mNameError\u001b[0m: name 'rise_time' is not defined"
     ]
    }
   ],
   "source": [
    "fit, fit_err = fit_rise_time(pow_sets[1][:,0], pow_sets[1][:,1])\n",
    "plt.fname = '1550_amp'\n",
    "fig, ax = plt.plot_laser_char(pow_sets[1], fit)\n",
    "ax.set_yticks([0, 7.5, 15, 22.5, 30])\n",
    "plt.save_fig(fig)"
   ]
  },
  {
   "cell_type": "code",
   "execution_count": 6,
   "metadata": {},
   "outputs": [
    {
     "ename": "AttributeError",
     "evalue": "'Plotter' object has no attribute 'plot_err_sig'",
     "output_type": "error",
     "traceback": [
      "\u001b[1;31m---------------------------------------------------------------------------\u001b[0m",
      "\u001b[1;31mAttributeError\u001b[0m                            Traceback (most recent call last)",
      "Cell \u001b[1;32mIn[6], line 5\u001b[0m\n\u001b[0;32m      3\u001b[0m err_sets \u001b[38;5;241m=\u001b[39m [open_csv(dirs\u001b[38;5;241m.\u001b[39mjoin(path, x), separators\u001b[38;5;241m=\u001b[39m\u001b[38;5;124m'\u001b[39m\u001b[38;5;124m;\u001b[39m\u001b[38;5;124m'\u001b[39m, header\u001b[38;5;241m=\u001b[39m\u001b[38;5;241m0\u001b[39m) \u001b[38;5;28;01mfor\u001b[39;00m x \u001b[38;5;129;01min\u001b[39;00m fnames]\n\u001b[0;32m      4\u001b[0m plt\u001b[38;5;241m.\u001b[39mfname \u001b[38;5;241m=\u001b[39m \u001b[38;5;124m'\u001b[39m\u001b[38;5;124merr_sig\u001b[39m\u001b[38;5;124m'\u001b[39m\n\u001b[1;32m----> 5\u001b[0m fig, ax \u001b[38;5;241m=\u001b[39m \u001b[43mplt\u001b[49m\u001b[38;5;241;43m.\u001b[39;49m\u001b[43mplot_err_sig\u001b[49m(err_sets[\u001b[38;5;241m0\u001b[39m])\n\u001b[0;32m      6\u001b[0m \u001b[38;5;66;03m#plt.save_fig(fig)\u001b[39;00m\n",
      "\u001b[1;31mAttributeError\u001b[0m: 'Plotter' object has no attribute 'plot_err_sig'"
     ]
    }
   ],
   "source": [
    "path = dirs.join(dirs.code, folder, 'Error Signal')\n",
    "fnames = [x for x in natsorted(os.listdir(path))]\n",
    "err_sets = [open_csv(dirs.join(path, x), separators=';', header=0) for x in fnames]\n",
    "plt.fname = 'err_sig'\n",
    "fig, ax = plt.plot_err_sig(err_sets[0])\n",
    "#plt.save_fig(fig)"
   ]
  }
 ],
 "metadata": {
  "kernelspec": {
   "display_name": ".tools",
   "language": "python",
   "name": "python3"
  },
  "language_info": {
   "codemirror_mode": {
    "name": "ipython",
    "version": 3
   },
   "file_extension": ".py",
   "mimetype": "text/x-python",
   "name": "python",
   "nbconvert_exporter": "python",
   "pygments_lexer": "ipython3",
   "version": "3.11.1"
  }
 },
 "nbformat": 4,
 "nbformat_minor": 2
}
