{
 "cells": [
  {
   "cell_type": "markdown",
   "metadata": {},
   "source": [
    "\n",
    "### AOM Efficiency Curves\n",
    "\n",
    "        Sean Keenan, PhD Physics  \n",
    "        Quantum Memories Group, Heriot-Watt University, Edinburgh  \n",
    "        2025  "
   ]
  },
  {
   "cell_type": "code",
   "execution_count": 1,
   "metadata": {},
   "outputs": [],
   "source": [
    "import sys\n",
    "# Add the parent directory to the system path\n",
    "sys.path.insert(1, r\"C:\\Users\\keena\\Documents\\vscode\")\n",
    "\n",
    "from Function_files.addresses import Init_Directories\n",
    "from Function_files.data_functions import open_csv\n",
    "from Function_files.plotting_class import Plotter\n",
    "\n",
    "import os\n",
    "from natsort import natsorted\n",
    "\n",
    "plt = Plotter()\n",
    "dirs = Init_Directories()\n",
    "\n",
    "plt.dir = \"C:/Users/keena/Documents/vscode/Thesis_SMK/Figures/\"\n",
    "plt.folder = \"Chapter-3/AOM\"\n",
    "plt.format = 'svg'\n",
    "\n",
    "folder = \"Tools/AOM/Experimental\"\n",
    "path = dirs.join(dirs.code, folder)\n",
    "fnames = [x for x in natsorted(os.listdir(path)) if '.csv' in x]\n",
    "data_sets = [open_csv(dirs.join(path, x)) for x in fnames]\n"
   ]
  },
  {
   "cell_type": "code",
   "execution_count": null,
   "metadata": {},
   "outputs": [],
   "source": [
    "plt.x_label = 'Drive Voltage (mV)'\n",
    "plt.fname = '1550_2'\n",
    "fig, ax = plt.plot_aom_eff(data_sets[5], 50)\n",
    "plt.save_fig(fig)"
   ]
  }
 ],
 "metadata": {
  "kernelspec": {
   "display_name": ".tools",
   "language": "python",
   "name": "python3"
  },
  "language_info": {
   "codemirror_mode": {
    "name": "ipython",
    "version": 3
   },
   "file_extension": ".py",
   "mimetype": "text/x-python",
   "name": "python",
   "nbconvert_exporter": "python",
   "pygments_lexer": "ipython3",
   "version": "3.13.1"
  }
 },
 "nbformat": 4,
 "nbformat_minor": 2
}
